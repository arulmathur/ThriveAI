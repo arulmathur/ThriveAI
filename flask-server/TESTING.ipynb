{
 "cells": [
  {
   "cell_type": "code",
   "execution_count": 1,
   "metadata": {},
   "outputs": [
    {
     "name": "stderr",
     "output_type": "stream",
     "text": [
      "/opt/miniconda3/envs/treehax2/lib/python3.8/site-packages/tqdm/auto.py:22: TqdmWarning: IProgress not found. Please update jupyter and ipywidgets. See https://ipywidgets.readthedocs.io/en/stable/user_install.html\n",
      "  from .autonotebook import tqdm as notebook_tqdm\n",
      "/opt/miniconda3/envs/treehax2/lib/python3.8/site-packages/torchvision/models/_utils.py:208: UserWarning: The parameter 'pretrained' is deprecated since 0.13 and may be removed in the future, please use 'weights' instead.\n",
      "  warnings.warn(\n",
      "/opt/miniconda3/envs/treehax2/lib/python3.8/site-packages/torchvision/models/_utils.py:223: UserWarning: Arguments other than a weight enum or `None` for 'weights' are deprecated since 0.13 and may be removed in the future. The current behavior is equivalent to passing `weights=DenseNet121_Weights.IMAGENET1K_V1`. You can also use `weights=DenseNet121_Weights.DEFAULT` to get the most up-to-date weights.\n",
      "  warnings.warn(msg)\n"
     ]
    },
    {
     "name": "stdout",
     "output_type": "stream",
     "text": [
      "Warning: target_layers is ignored in FullGrad. All bias layers will be used instead\n"
     ]
    }
   ],
   "source": [
    "from internal import *\n",
    "import torch\n",
    "from pytorch_grad_cam import *\n",
    "from pytorch_grad_cam.utils.image import show_cam_on_image, \\\n",
    "    preprocess_image\n",
    "\n",
    "\n",
    "\n",
    "\n",
    "\n",
    "image_path = f\"database/patient5/Patient5.png\"\n",
    "output_path=\"database/patient5/Patient5_tes.png\"\n",
    "\n",
    "generate_fullgrad(image_path=image_path, output_path=\"database/patient5/Patient5_tes.png\")\n",
    "\n",
    "# COVID_PATH = f\"data/training/COVID/\"\n",
    "# NO_COVID_PATH = f\"data/training/NonCOVID/\"\n",
    "# image_path1 = f\"{COVID_PATH}2020.01.24.919183-p27-132.png\"\n",
    "# image_path2 = f\"{NO_COVID_PATH}30_0.jpg\"\n",
    "# print(infer_many([image_path1, image_path2]))\n",
    "# # print(infer_single(image_path2))"
   ]
  },
  {
   "cell_type": "code",
   "execution_count": null,
   "metadata": {},
   "outputs": [],
   "source": []
  }
 ],
 "metadata": {
  "kernelspec": {
   "display_name": "treehax2",
   "language": "python",
   "name": "python3"
  },
  "language_info": {
   "codemirror_mode": {
    "name": "ipython",
    "version": 3
   },
   "file_extension": ".py",
   "mimetype": "text/x-python",
   "name": "python",
   "nbconvert_exporter": "python",
   "pygments_lexer": "ipython3",
   "version": "3.8.16"
  },
  "orig_nbformat": 4,
  "vscode": {
   "interpreter": {
    "hash": "e5c270835f943f205dc16370f820da5f97c4f44c99154512e57f32882d48c125"
   }
  }
 },
 "nbformat": 4,
 "nbformat_minor": 2
}
